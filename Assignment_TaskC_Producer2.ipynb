{
 "cells": [
  {
   "cell_type": "markdown",
   "metadata": {
    "colab_type": "text",
    "id": "_MfY2HMf0y-V"
   },
   "source": [
    "# Task C. Processing Data Stream\n",
    "## Simulating real-time data using Apache Kafka Producers (AQUA DATA)\n",
    "## Task C - 1(b) Event Producer 2"
   ]
  },
  {
   "cell_type": "markdown",
   "metadata": {
    "colab_type": "text",
    "id": "BHYmEs0o0y-X"
   },
   "source": [
    "### Importing Libraries and Reading the CSV "
   ]
  },
  {
   "cell_type": "code",
   "execution_count": 1,
   "metadata": {
    "colab": {},
    "colab_type": "code",
    "id": "mWHx6lvo0y-Y"
   },
   "outputs": [],
   "source": [
    "#importing required libraries\n",
    "import csv  # to read the csv files\n",
    "import random  #for random number generation\n",
    "import json  #for json dumps\n",
    "import time  #for sleep function\n",
    "import datetime  #creating datetime deltas\n",
    "from kafka import KafkaConsumer, KafkaProducer  # creating kafka producers and consumers"
   ]
  },
  {
   "cell_type": "code",
   "execution_count": 2,
   "metadata": {
    "colab": {},
    "colab_type": "code",
    "id": "aOglwYcM0y-d"
   },
   "outputs": [],
   "source": [
    "def read_csv(file_name):    #function to read the csv file and return the header and data\n",
    "    header = []\n",
    "    data = []\n",
    "    with open(file_name, 'r') as f:\n",
    "        reader = csv.reader(f)\n",
    "        row_count = 0\n",
    "        \n",
    "        for row in reader:\n",
    "            if(row_count == 0):\n",
    "                header.extend(row)\n",
    "            else:\n",
    "                data.append(row)\n",
    "            row_count += 1\n",
    "    \n",
    "    return header, data\n",
    "\n",
    "\n",
    "        \n",
    "header_list_aqua, data_aqua = read_csv('hotspot_AQUA_streaming.csv')  #Header and data collected seperately"
   ]
  },
  {
   "cell_type": "markdown",
   "metadata": {
    "colab_type": "text",
    "id": "eLFvT6LW081j"
   },
   "source": [
    "### Kafka producer"
   ]
  },
  {
   "cell_type": "code",
   "execution_count": 3,
   "metadata": {
    "colab": {},
    "colab_type": "code",
    "id": "PKE0YH450y-g"
   },
   "outputs": [],
   "source": [
    "#kafka producer, publish the message into kafka queue in given topic\n",
    "def publish_message(producer_instance, topic_name, key, value): #Function to publish the randomly generated message\n",
    "    try:\n",
    "        #Converting Key and value to Bytes\n",
    "        key_bytes = bytes(key, encoding='utf-8')\n",
    "        value_bytes = bytes(value, encoding='utf-8')\n",
    "        #Creating instance\n",
    "        producer_instance.send(topic_name, key=key_bytes, value=value_bytes)\n",
    "        #Flushing\n",
    "        producer_instance.flush()\n",
    "        print('Message published successfully.')\n",
    "    except Exception as ex:\n",
    "        print('Exception in publishing message')\n",
    "        print(str(ex))\n",
    "\n",
    "\n",
    "# connects to running kafka instance at port 9092 locally\n",
    "def connect_kafka_producer():\n",
    "    _producer = None\n",
    "    try:\n",
    "         #connecting to localhost Kafka and the default port\n",
    "        _producer = KafkaProducer(bootstrap_servers=['localhost:9092'], api_version=(0, 10))\n",
    "    except Exception as ex:\n",
    "        print('Exception while connecting Kafka')\n",
    "        print(str(ex))\n",
    "    finally:\n",
    "        return _producer"
   ]
  },
  {
   "cell_type": "markdown",
   "metadata": {
    "colab_type": "text",
    "id": "5VKZgDu60y-f"
   },
   "source": [
    "### Creating Kafka Connection and Sending Random instance of Climate data\n",
    "* Using random number generator, randomly selecting a row in AQUA_streaming file and feeding into kafka producer.\n",
    "\n",
    "* Publish the messages with a key as `AQUA` and value as AQUA data one row at a time."
   ]
  },
  {
   "cell_type": "code",
   "execution_count": 4,
   "metadata": {
    "colab": {},
    "colab_type": "code",
    "id": "hdtLCC1c0y-j",
    "outputId": "4fed82d7-4a0e-4116-c622-bd45f1d776f8"
   },
   "outputs": [
    {
     "name": "stdout",
     "output_type": "stream",
     "text": [
      "{\"surface_temperature\": 56.0, \"topic\": \"AQUA\", \"creation_time\": \"2019-05-23 10:11:09.207857\", \"confidence\": 59, \"sender_id\": \"event2\", \"location\": {\"type\": \"Point\", \"coordinates\": [-37.4023, 147.0394]}}\n",
      "Message published successfully.\n",
      "{\"surface_temperature\": 56.0, \"topic\": \"AQUA\", \"creation_time\": \"2019-05-23 10:11:24.483035\", \"confidence\": 82, \"sender_id\": \"event2\", \"location\": {\"type\": \"Point\", \"coordinates\": [-36.8786, 142.6908]}}\n",
      "Message published successfully.\n",
      "{\"surface_temperature\": 43.0, \"topic\": \"AQUA\", \"creation_time\": \"2019-05-23 10:11:39.552074\", \"confidence\": 65, \"sender_id\": \"event2\", \"location\": {\"type\": \"Point\", \"coordinates\": [-36.6292, 143.8862]}}\n",
      "Message published successfully.\n",
      "{\"surface_temperature\": 94.0, \"topic\": \"AQUA\", \"creation_time\": \"2019-05-23 10:11:54.596779\", \"confidence\": 100, \"sender_id\": \"event2_2\", \"location\": {\"type\": \"Point\", \"coordinates\": [-38.1917, 147.0745]}}\n",
      "Message published successfully.\n",
      "{\"surface_temperature\": 47.0, \"topic\": \"AQUA\", \"creation_time\": \"2019-05-23 10:12:09.639541\", \"confidence\": 72, \"sender_id\": \"event2_2\", \"location\": {\"type\": \"Point\", \"coordinates\": [-37.467, 143.351]}}\n",
      "Message published successfully.\n",
      "{\"surface_temperature\": 72.0, \"topic\": \"AQUA\", \"creation_time\": \"2019-05-23 10:12:24.708357\", \"confidence\": 93, \"sender_id\": \"event2\", \"location\": {\"type\": \"Point\", \"coordinates\": [-36.6657, 143.1675]}}\n",
      "Message published successfully.\n",
      "{\"surface_temperature\": 48.0, \"topic\": \"AQUA\", \"creation_time\": \"2019-05-23 10:12:39.764787\", \"confidence\": 74, \"sender_id\": \"event2\", \"location\": {\"type\": \"Point\", \"coordinates\": [-35.8857, 142.1212]}}\n",
      "Message published successfully.\n",
      "{\"surface_temperature\": 61.0, \"topic\": \"AQUA\", \"creation_time\": \"2019-05-23 10:12:54.807099\", \"confidence\": 86, \"sender_id\": \"event2\", \"location\": {\"type\": \"Point\", \"coordinates\": [-36.3735, 147.3154]}}\n",
      "Message published successfully.\n",
      "{\"surface_temperature\": 44.0, \"topic\": \"AQUA\", \"creation_time\": \"2019-05-23 10:13:09.860106\", \"confidence\": 68, \"sender_id\": \"event2_2\", \"location\": {\"type\": \"Point\", \"coordinates\": [-38.219, 143.7352]}}\n",
      "Message published successfully.\n",
      "{\"surface_temperature\": 59.0, \"topic\": \"AQUA\", \"creation_time\": \"2019-05-23 10:13:24.913524\", \"confidence\": 85, \"sender_id\": \"event2\", \"location\": {\"type\": \"Point\", \"coordinates\": [-36.3096, 142.7722]}}\n",
      "Message published successfully.\n",
      "{\"surface_temperature\": 55.0, \"topic\": \"AQUA\", \"creation_time\": \"2019-05-23 10:13:39.945237\", \"confidence\": 82, \"sender_id\": \"event2_2\", \"location\": {\"type\": \"Point\", \"coordinates\": [-36.3523, 141.0283]}}\n",
      "Message published successfully.\n",
      "{\"surface_temperature\": 41.0, \"topic\": \"AQUA\", \"creation_time\": \"2019-05-23 10:13:54.973130\", \"confidence\": 63, \"sender_id\": \"event2_2\", \"location\": {\"type\": \"Point\", \"coordinates\": [-37.7506, 142.7265]}}\n",
      "Message published successfully.\n",
      "{\"surface_temperature\": 45.0, \"topic\": \"AQUA\", \"creation_time\": \"2019-05-23 10:14:10.027466\", \"confidence\": 69, \"sender_id\": \"event2\", \"location\": {\"type\": \"Point\", \"coordinates\": [-37.7087, 145.5499]}}\n",
      "Message published successfully.\n",
      "{\"surface_temperature\": 52.0, \"topic\": \"AQUA\", \"creation_time\": \"2019-05-23 10:14:25.075445\", \"confidence\": 79, \"sender_id\": \"event2_2\", \"location\": {\"type\": \"Point\", \"coordinates\": [-36.3511, 145.9216]}}\n",
      "Message published successfully.\n",
      "{\"surface_temperature\": 58.0, \"topic\": \"AQUA\", \"creation_time\": \"2019-05-23 10:14:40.099403\", \"confidence\": 84, \"sender_id\": \"event2_2\", \"location\": {\"type\": \"Point\", \"coordinates\": [-36.3606, 144.498]}}\n",
      "Message published successfully.\n",
      "{\"surface_temperature\": 53.0, \"topic\": \"AQUA\", \"creation_time\": \"2019-05-23 10:14:55.131583\", \"confidence\": 80, \"sender_id\": \"event2_2\", \"location\": {\"type\": \"Point\", \"coordinates\": [-36.701, 141.6351]}}\n",
      "Message published successfully.\n",
      "{\"surface_temperature\": 44.0, \"topic\": \"AQUA\", \"creation_time\": \"2019-05-23 10:15:10.164112\", \"confidence\": 69, \"sender_id\": \"event2_2\", \"location\": {\"type\": \"Point\", \"coordinates\": [-36.3119, 146.4371]}}\n",
      "Message published successfully.\n",
      "{\"surface_temperature\": 53.0, \"topic\": \"AQUA\", \"creation_time\": \"2019-05-23 10:15:25.187360\", \"confidence\": 80, \"sender_id\": \"event2\", \"location\": {\"type\": \"Point\", \"coordinates\": [-37.2341, 149.1736]}}\n",
      "Message published successfully.\n",
      "{\"surface_temperature\": 58.0, \"topic\": \"AQUA\", \"creation_time\": \"2019-05-23 10:15:40.214835\", \"confidence\": 88, \"sender_id\": \"event2\", \"location\": {\"type\": \"Point\", \"coordinates\": [-37.333, 143.534]}}\n",
      "Message published successfully.\n",
      "{\"surface_temperature\": 70.0, \"topic\": \"AQUA\", \"creation_time\": \"2019-05-23 10:15:55.258505\", \"confidence\": 92, \"sender_id\": \"event2\", \"location\": {\"type\": \"Point\", \"coordinates\": [-37.4033, 143.6884]}}\n",
      "Message published successfully.\n",
      "{\"surface_temperature\": 49.0, \"topic\": \"AQUA\", \"creation_time\": \"2019-05-23 10:16:10.289201\", \"confidence\": 76, \"sender_id\": \"event2\", \"location\": {\"type\": \"Point\", \"coordinates\": [-37.3233, 143.8061]}}\n",
      "Message published successfully.\n",
      "{\"surface_temperature\": 48.0, \"topic\": \"AQUA\", \"creation_time\": \"2019-05-23 10:16:25.304668\", \"confidence\": 73, \"sender_id\": \"event2\", \"location\": {\"type\": \"Point\", \"coordinates\": [-36.7597, 142.9068]}}\n",
      "Message published successfully.\n",
      "{\"surface_temperature\": 40.0, \"topic\": \"AQUA\", \"creation_time\": \"2019-05-23 10:16:40.338552\", \"confidence\": 54, \"sender_id\": \"event2_2\", \"location\": {\"type\": \"Point\", \"coordinates\": [-37.491, 141.936]}}\n",
      "Message published successfully.\n",
      "{\"surface_temperature\": 41.0, \"topic\": \"AQUA\", \"creation_time\": \"2019-05-23 10:16:55.378513\", \"confidence\": 61, \"sender_id\": \"event2_2\", \"location\": {\"type\": \"Point\", \"coordinates\": [-37.7287, 143.1682]}}\n",
      "Message published successfully.\n",
      "{\"surface_temperature\": 54.0, \"topic\": \"AQUA\", \"creation_time\": \"2019-05-23 10:17:10.413606\", \"confidence\": 80, \"sender_id\": \"event2\", \"location\": {\"type\": \"Point\", \"coordinates\": [-34.395, 142.0522]}}\n",
      "Message published successfully.\n",
      "{\"surface_temperature\": 78.0, \"topic\": \"AQUA\", \"creation_time\": \"2019-05-23 10:17:25.461382\", \"confidence\": 96, \"sender_id\": \"event2\", \"location\": {\"type\": \"Point\", \"coordinates\": [-36.1955, 145.914]}}\n",
      "Message published successfully.\n",
      "{\"surface_temperature\": 50.0, \"topic\": \"AQUA\", \"creation_time\": \"2019-05-23 10:17:40.515333\", \"confidence\": 77, \"sender_id\": \"event2\", \"location\": {\"type\": \"Point\", \"coordinates\": [-36.6118, 143.5275]}}\n",
      "Message published successfully.\n",
      "{\"surface_temperature\": 44.0, \"topic\": \"AQUA\", \"creation_time\": \"2019-05-23 10:17:55.546537\", \"confidence\": 68, \"sender_id\": \"event2_2\", \"location\": {\"type\": \"Point\", \"coordinates\": [-36.3275, 145.5876]}}\n",
      "Message published successfully.\n",
      "{\"surface_temperature\": 46.0, \"topic\": \"AQUA\", \"creation_time\": \"2019-05-23 10:18:10.575364\", \"confidence\": 75, \"sender_id\": \"event2_2\", \"location\": {\"type\": \"Point\", \"coordinates\": [-37.295, 144.377]}}\n",
      "Message published successfully.\n",
      "{\"surface_temperature\": 49.0, \"topic\": \"AQUA\", \"creation_time\": \"2019-05-23 10:18:25.609398\", \"confidence\": 76, \"sender_id\": \"event2\", \"location\": {\"type\": \"Point\", \"coordinates\": [-37.6158, 142.6931]}}\n",
      "Message published successfully.\n",
      "{\"surface_temperature\": 61.0, \"topic\": \"AQUA\", \"creation_time\": \"2019-05-23 10:18:40.626337\", \"confidence\": 86, \"sender_id\": \"event2_2\", \"location\": {\"type\": \"Point\", \"coordinates\": [-36.5906, 143.1693]}}\n",
      "Message published successfully.\n",
      "{\"surface_temperature\": 60.0, \"topic\": \"AQUA\", \"creation_time\": \"2019-05-23 10:18:55.646767\", \"confidence\": 86, \"sender_id\": \"event2_2\", \"location\": {\"type\": \"Point\", \"coordinates\": [-36.9381, 143.4883]}}\n",
      "Message published successfully.\n",
      "{\"surface_temperature\": 89.0, \"topic\": \"AQUA\", \"creation_time\": \"2019-05-23 10:19:10.675659\", \"confidence\": 100, \"sender_id\": \"event2\", \"location\": {\"type\": \"Point\", \"coordinates\": [-37.2168, 147.4748]}}\n",
      "Message published successfully.\n",
      "{\"surface_temperature\": 44.0, \"topic\": \"AQUA\", \"creation_time\": \"2019-05-23 10:19:25.699917\", \"confidence\": 78, \"sender_id\": \"event2\", \"location\": {\"type\": \"Point\", \"coordinates\": [-37.245, 143.426]}}\n",
      "Message published successfully.\n",
      "{\"surface_temperature\": 55.0, \"topic\": \"AQUA\", \"creation_time\": \"2019-05-23 10:19:40.743738\", \"confidence\": 81, \"sender_id\": \"event2\", \"location\": {\"type\": \"Point\", \"coordinates\": [-36.6605, 141.2603]}}\n",
      "Message published successfully.\n"
     ]
    },
    {
     "name": "stdout",
     "output_type": "stream",
     "text": [
      "{\"surface_temperature\": 60.0, \"topic\": \"AQUA\", \"creation_time\": \"2019-05-23 10:19:55.788900\", \"confidence\": 85, \"sender_id\": \"event2\", \"location\": {\"type\": \"Point\", \"coordinates\": [-37.6605, 142.1116]}}\n",
      "Message published successfully.\n",
      "{\"surface_temperature\": 56.0, \"topic\": \"AQUA\", \"creation_time\": \"2019-05-23 10:20:10.806497\", \"confidence\": 83, \"sender_id\": \"event2_2\", \"location\": {\"type\": \"Point\", \"coordinates\": [-36.3661, 145.8545]}}\n",
      "Message published successfully.\n",
      "{\"surface_temperature\": 49.0, \"topic\": \"AQUA\", \"creation_time\": \"2019-05-23 10:20:25.844985\", \"confidence\": 76, \"sender_id\": \"event2_2\", \"location\": {\"type\": \"Point\", \"coordinates\": [-36.2207, 142.8519]}}\n",
      "Message published successfully.\n",
      "{\"surface_temperature\": 59.0, \"topic\": \"AQUA\", \"creation_time\": \"2019-05-23 10:20:40.885607\", \"confidence\": 85, \"sender_id\": \"event2_2\", \"location\": {\"type\": \"Point\", \"coordinates\": [-36.9049, 143.5416]}}\n",
      "Message published successfully.\n",
      "{\"surface_temperature\": 56.0, \"topic\": \"AQUA\", \"creation_time\": \"2019-05-23 10:20:55.921326\", \"confidence\": 59, \"sender_id\": \"event2\", \"location\": {\"type\": \"Point\", \"coordinates\": [-37.4023, 147.0394]}}\n",
      "Message published successfully.\n",
      "{\"surface_temperature\": 48.0, \"topic\": \"AQUA\", \"creation_time\": \"2019-05-23 10:21:10.943844\", \"confidence\": 75, \"sender_id\": \"event2_2\", \"location\": {\"type\": \"Point\", \"coordinates\": [-36.9199, 145.8429]}}\n",
      "Message published successfully.\n",
      "{\"surface_temperature\": 88.0, \"topic\": \"AQUA\", \"creation_time\": \"2019-05-23 10:21:25.970041\", \"confidence\": 87, \"sender_id\": \"event2_2\", \"location\": {\"type\": \"Point\", \"coordinates\": [-37.6387, 142.9032]}}\n",
      "Message published successfully.\n",
      "{\"surface_temperature\": 39.0, \"topic\": \"AQUA\", \"creation_time\": \"2019-05-23 10:21:41.000292\", \"confidence\": 55, \"sender_id\": \"event2_2\", \"location\": {\"type\": \"Point\", \"coordinates\": [-37.2904, 143.9209]}}\n",
      "Message published successfully.\n",
      "{\"surface_temperature\": 39.0, \"topic\": \"AQUA\", \"creation_time\": \"2019-05-23 10:21:56.024498\", \"confidence\": 56, \"sender_id\": \"event2\", \"location\": {\"type\": \"Point\", \"coordinates\": [-36.2218, 141.3385]}}\n",
      "Message published successfully.\n",
      "{\"surface_temperature\": 43.0, \"topic\": \"AQUA\", \"creation_time\": \"2019-05-23 10:22:11.066858\", \"confidence\": 66, \"sender_id\": \"event2_2\", \"location\": {\"type\": \"Point\", \"coordinates\": [-37.7885, 142.9509]}}\n",
      "Message published successfully.\n",
      "{\"surface_temperature\": 44.0, \"topic\": \"AQUA\", \"creation_time\": \"2019-05-23 10:22:26.107202\", \"confidence\": 69, \"sender_id\": \"event2\", \"location\": {\"type\": \"Point\", \"coordinates\": [-37.8668, 143.0472]}}\n",
      "Message published successfully.\n",
      "{\"surface_temperature\": 39.0, \"topic\": \"AQUA\", \"creation_time\": \"2019-05-23 10:22:41.131178\", \"confidence\": 55, \"sender_id\": \"event2\", \"location\": {\"type\": \"Point\", \"coordinates\": [-37.2622, 144.3704]}}\n",
      "Message published successfully.\n",
      "{\"surface_temperature\": 54.0, \"topic\": \"AQUA\", \"creation_time\": \"2019-05-23 10:22:56.187521\", \"confidence\": 81, \"sender_id\": \"event2_2\", \"location\": {\"type\": \"Point\", \"coordinates\": [-36.7302, 141.6234]}}\n",
      "Message published successfully.\n",
      "{\"surface_temperature\": 58.0, \"topic\": \"AQUA\", \"creation_time\": \"2019-05-23 10:23:11.223701\", \"confidence\": 88, \"sender_id\": \"event2_2\", \"location\": {\"type\": \"Point\", \"coordinates\": [-37.469, 148.125]}}\n",
      "Message published successfully.\n",
      "{\"surface_temperature\": 46.0, \"topic\": \"AQUA\", \"creation_time\": \"2019-05-23 10:23:26.257920\", \"confidence\": 67, \"sender_id\": \"event2\", \"location\": {\"type\": \"Point\", \"coordinates\": [-34.2536, 141.6199]}}\n",
      "Message published successfully.\n",
      "{\"surface_temperature\": 43.0, \"topic\": \"AQUA\", \"creation_time\": \"2019-05-23 10:23:41.300728\", \"confidence\": 62, \"sender_id\": \"event2_2\", \"location\": {\"type\": \"Point\", \"coordinates\": [-37.8254, 143.3904]}}\n",
      "Message published successfully.\n",
      "{\"surface_temperature\": 50.0, \"topic\": \"AQUA\", \"creation_time\": \"2019-05-23 10:23:56.338697\", \"confidence\": 77, \"sender_id\": \"event2\", \"location\": {\"type\": \"Point\", \"coordinates\": [-36.9175, 142.6639]}}\n",
      "Message published successfully.\n",
      "{\"surface_temperature\": 54.0, \"topic\": \"AQUA\", \"creation_time\": \"2019-05-23 10:24:11.377263\", \"confidence\": 72, \"sender_id\": \"event2\", \"location\": {\"type\": \"Point\", \"coordinates\": [-36.0694, 141.5717]}}\n",
      "Message published successfully.\n",
      "{\"surface_temperature\": 50.0, \"topic\": \"AQUA\", \"creation_time\": \"2019-05-23 10:24:26.432366\", \"confidence\": 84, \"sender_id\": \"event2_2\", \"location\": {\"type\": \"Point\", \"coordinates\": [-37.438, 148.09]}}\n",
      "Message published successfully.\n",
      "{\"surface_temperature\": 45.0, \"topic\": \"AQUA\", \"creation_time\": \"2019-05-23 10:24:41.467347\", \"confidence\": 69, \"sender_id\": \"event2_2\", \"location\": {\"type\": \"Point\", \"coordinates\": [-36.4226, 141.6752]}}\n",
      "Message published successfully.\n",
      "{\"surface_temperature\": 56.0, \"topic\": \"AQUA\", \"creation_time\": \"2019-05-23 10:24:56.492274\", \"confidence\": 82, \"sender_id\": \"event2_2\", \"location\": {\"type\": \"Point\", \"coordinates\": [-36.8299, 142.2781]}}\n",
      "Message published successfully.\n",
      "{\"surface_temperature\": 42.0, \"topic\": \"AQUA\", \"creation_time\": \"2019-05-23 10:25:11.519312\", \"confidence\": 65, \"sender_id\": \"event2_2\", \"location\": {\"type\": \"Point\", \"coordinates\": [-35.779, 143.1057]}}\n",
      "Message published successfully.\n",
      "{\"surface_temperature\": 104.0, \"topic\": \"AQUA\", \"creation_time\": \"2019-05-23 10:25:26.561051\", \"confidence\": 100, \"sender_id\": \"event2_2\", \"location\": {\"type\": \"Point\", \"coordinates\": [-36.0555, 141.6071]}}\n",
      "Message published successfully.\n",
      "{\"surface_temperature\": 51.0, \"topic\": \"AQUA\", \"creation_time\": \"2019-05-23 10:25:41.608529\", \"confidence\": 60, \"sender_id\": \"event2_2\", \"location\": {\"type\": \"Point\", \"coordinates\": [-37.4336, 147.0534]}}\n",
      "Message published successfully.\n",
      "{\"surface_temperature\": 52.0, \"topic\": \"AQUA\", \"creation_time\": \"2019-05-23 10:25:56.646991\", \"confidence\": 78, \"sender_id\": \"event2_2\", \"location\": {\"type\": \"Point\", \"coordinates\": [-36.1815, 142.09]}}\n",
      "Message published successfully.\n",
      "{\"surface_temperature\": 76.0, \"topic\": \"AQUA\", \"creation_time\": \"2019-05-23 10:26:11.698147\", \"confidence\": 95, \"sender_id\": \"event2_2\", \"location\": {\"type\": \"Point\", \"coordinates\": [-38.1987, 147.0666]}}\n",
      "Message published successfully.\n",
      "{\"surface_temperature\": 54.0, \"topic\": \"AQUA\", \"creation_time\": \"2019-05-23 10:26:26.728325\", \"confidence\": 100, \"sender_id\": \"event2\", \"location\": {\"type\": \"Point\", \"coordinates\": [-36.284, 146.145]}}\n",
      "Message published successfully.\n",
      "{\"surface_temperature\": 54.0, \"topic\": \"AQUA\", \"creation_time\": \"2019-05-23 10:26:41.814217\", \"confidence\": 81, \"sender_id\": \"event2_2\", \"location\": {\"type\": \"Point\", \"coordinates\": [-35.9049, 143.6874]}}\n",
      "Message published successfully.\n",
      "{\"surface_temperature\": 48.0, \"topic\": \"AQUA\", \"creation_time\": \"2019-05-23 10:26:56.853166\", \"confidence\": 74, \"sender_id\": \"event2\", \"location\": {\"type\": \"Point\", \"coordinates\": [-37.665, 142.1339]}}\n",
      "Message published successfully.\n",
      "{\"surface_temperature\": 67.0, \"topic\": \"AQUA\", \"creation_time\": \"2019-05-23 10:27:11.889592\", \"confidence\": 79, \"sender_id\": \"event2\", \"location\": {\"type\": \"Point\", \"coordinates\": [-36.883, 142.1637]}}\n",
      "Message published successfully.\n",
      "{\"surface_temperature\": 44.0, \"topic\": \"AQUA\", \"creation_time\": \"2019-05-23 10:27:26.927184\", \"confidence\": 68, \"sender_id\": \"event2_2\", \"location\": {\"type\": \"Point\", \"coordinates\": [-38.5675, 146.4563]}}\n",
      "Message published successfully.\n",
      "{\"surface_temperature\": 53.0, \"topic\": \"AQUA\", \"creation_time\": \"2019-05-23 10:27:41.954119\", \"confidence\": 56, \"sender_id\": \"event2\", \"location\": {\"type\": \"Point\", \"coordinates\": [-37.5263, 143.0882]}}\n",
      "Message published successfully.\n",
      "{\"surface_temperature\": 66.0, \"topic\": \"AQUA\", \"creation_time\": \"2019-05-23 10:27:56.990703\", \"confidence\": 89, \"sender_id\": \"event2\", \"location\": {\"type\": \"Point\", \"coordinates\": [-36.5116, 144.562]}}\n",
      "Message published successfully.\n",
      "{\"surface_temperature\": 39.0, \"topic\": \"AQUA\", \"creation_time\": \"2019-05-23 10:28:12.025067\", \"confidence\": 55, \"sender_id\": \"event2_2\", \"location\": {\"type\": \"Point\", \"coordinates\": [-36.767, 142.6811]}}\n",
      "Message published successfully.\n",
      "{\"surface_temperature\": 49.0, \"topic\": \"AQUA\", \"creation_time\": \"2019-05-23 10:28:27.057518\", \"confidence\": 75, \"sender_id\": \"event2_2\", \"location\": {\"type\": \"Point\", \"coordinates\": [-37.662, 142.6505]}}\n",
      "Message published successfully.\n"
     ]
    },
    {
     "name": "stdout",
     "output_type": "stream",
     "text": [
      "{\"surface_temperature\": 68.0, \"topic\": \"AQUA\", \"creation_time\": \"2019-05-23 10:28:42.103233\", \"confidence\": 80, \"sender_id\": \"event2\", \"location\": {\"type\": \"Point\", \"coordinates\": [-37.0055, 148.1582]}}\n",
      "Message published successfully.\n",
      "{\"surface_temperature\": 42.0, \"topic\": \"AQUA\", \"creation_time\": \"2019-05-23 10:28:57.128431\", \"confidence\": 52, \"sender_id\": \"event2_2\", \"location\": {\"type\": \"Point\", \"coordinates\": [-37.3723, 143.8406]}}\n",
      "Message published successfully.\n",
      "{\"surface_temperature\": 52.0, \"topic\": \"AQUA\", \"creation_time\": \"2019-05-23 10:29:12.148490\", \"confidence\": 79, \"sender_id\": \"event2\", \"location\": {\"type\": \"Point\", \"coordinates\": [-36.4513, 141.4191]}}\n",
      "Message published successfully.\n",
      "{\"surface_temperature\": 38.0, \"topic\": \"AQUA\", \"creation_time\": \"2019-05-23 10:29:27.187807\", \"confidence\": 50, \"sender_id\": \"event2\", \"location\": {\"type\": \"Point\", \"coordinates\": [-38.3553, 147.0231]}}\n",
      "Message published successfully.\n",
      "{\"surface_temperature\": 63.0, \"topic\": \"AQUA\", \"creation_time\": \"2019-05-23 10:29:42.229727\", \"confidence\": 90, \"sender_id\": \"event2\", \"location\": {\"type\": \"Point\", \"coordinates\": [-37.384, 148.056]}}\n",
      "Message published successfully.\n",
      "{\"surface_temperature\": 40.0, \"topic\": \"AQUA\", \"creation_time\": \"2019-05-23 10:29:57.286125\", \"confidence\": 58, \"sender_id\": \"event2_2\", \"location\": {\"type\": \"Point\", \"coordinates\": [-36.9203, 143.4581]}}\n",
      "Message published successfully.\n",
      "{\"surface_temperature\": 51.0, \"topic\": \"AQUA\", \"creation_time\": \"2019-05-23 10:30:12.328571\", \"confidence\": 78, \"sender_id\": \"event2\", \"location\": {\"type\": \"Point\", \"coordinates\": [-36.3094, 141.0543]}}\n",
      "Message published successfully.\n",
      "{\"surface_temperature\": 61.0, \"topic\": \"AQUA\", \"creation_time\": \"2019-05-23 10:30:27.361585\", \"confidence\": 86, \"sender_id\": \"event2\", \"location\": {\"type\": \"Point\", \"coordinates\": [-36.8346, 141.3552]}}\n",
      "Message published successfully.\n",
      "{\"surface_temperature\": 58.0, \"topic\": \"AQUA\", \"creation_time\": \"2019-05-23 10:30:42.381847\", \"confidence\": 84, \"sender_id\": \"event2_2\", \"location\": {\"type\": \"Point\", \"coordinates\": [-35.9316, 143.9843]}}\n",
      "Message published successfully.\n",
      "{\"surface_temperature\": 59.0, \"topic\": \"AQUA\", \"creation_time\": \"2019-05-23 10:30:57.422203\", \"confidence\": 85, \"sender_id\": \"event2\", \"location\": {\"type\": \"Point\", \"coordinates\": [-36.0889, 145.0443]}}\n",
      "Message published successfully.\n",
      "{\"surface_temperature\": 51.0, \"topic\": \"AQUA\", \"creation_time\": \"2019-05-23 10:31:12.444681\", \"confidence\": 73, \"sender_id\": \"event2\", \"location\": {\"type\": \"Point\", \"coordinates\": [-37.8934, 143.34]}}\n",
      "Message published successfully.\n",
      "{\"surface_temperature\": 35.0, \"topic\": \"AQUA\", \"creation_time\": \"2019-05-23 10:31:27.491845\", \"confidence\": 59, \"sender_id\": \"event2_2\", \"location\": {\"type\": \"Point\", \"coordinates\": [-37.227, 141.151]}}\n",
      "Message published successfully.\n",
      "{\"surface_temperature\": 43.0, \"topic\": \"AQUA\", \"creation_time\": \"2019-05-23 10:31:42.515265\", \"confidence\": 66, \"sender_id\": \"event2\", \"location\": {\"type\": \"Point\", \"coordinates\": [-36.7338, 144.5479]}}\n",
      "Message published successfully.\n",
      "{\"surface_temperature\": 71.0, \"topic\": \"AQUA\", \"creation_time\": \"2019-05-23 10:31:57.536265\", \"confidence\": 93, \"sender_id\": \"event2\", \"location\": {\"type\": \"Point\", \"coordinates\": [-36.6823, 142.5024]}}\n",
      "Message published successfully.\n"
     ]
    },
    {
     "ename": "KeyboardInterrupt",
     "evalue": "",
     "output_type": "error",
     "traceback": [
      "\u001b[0;31m---------------------------------------------------------------------------\u001b[0m",
      "\u001b[0;31mKeyboardInterrupt\u001b[0m                         Traceback (most recent call last)",
      "\u001b[0;32m<ipython-input-4-461260312a95>\u001b[0m in \u001b[0;36m<module>\u001b[0;34m()\u001b[0m\n\u001b[1;32m     22\u001b[0m     \u001b[0mprint\u001b[0m\u001b[0;34m(\u001b[0m\u001b[0mjson\u001b[0m\u001b[0;34m.\u001b[0m\u001b[0mdumps\u001b[0m\u001b[0;34m(\u001b[0m\u001b[0maqua_dict\u001b[0m\u001b[0;34m)\u001b[0m\u001b[0;34m)\u001b[0m\u001b[0;34m\u001b[0m\u001b[0m\n\u001b[1;32m     23\u001b[0m     \u001b[0mpublish_message\u001b[0m\u001b[0;34m(\u001b[0m\u001b[0mkafka_producer\u001b[0m\u001b[0;34m,\u001b[0m \u001b[0;34m'AQUA'\u001b[0m\u001b[0;34m,\u001b[0m \u001b[0mkey\u001b[0m\u001b[0;34m,\u001b[0m \u001b[0mjson\u001b[0m\u001b[0;34m.\u001b[0m\u001b[0mdumps\u001b[0m\u001b[0;34m(\u001b[0m\u001b[0maqua_dict\u001b[0m\u001b[0;34m)\u001b[0m\u001b[0;34m)\u001b[0m\u001b[0;34m\u001b[0m\u001b[0m\n\u001b[0;32m---> 24\u001b[0;31m     \u001b[0mtime\u001b[0m\u001b[0;34m.\u001b[0m\u001b[0msleep\u001b[0m\u001b[0;34m(\u001b[0m\u001b[0;36m15\u001b[0m\u001b[0;34m)\u001b[0m \u001b[0;31m#wait 15 seconds\u001b[0m\u001b[0;34m\u001b[0m\u001b[0m\n\u001b[0m\u001b[1;32m     25\u001b[0m \u001b[0;34m\u001b[0m\u001b[0m\n",
      "\u001b[0;31mKeyboardInterrupt\u001b[0m: "
     ]
    }
   ],
   "source": [
    "#kafka producer\n",
    "#assigning senders\n",
    "SENDER = 'event2'\n",
    "SENDER1 = 'event2_2'\n",
    "\n",
    "while True:\n",
    "    rnd_num = random.randint(0,len(data_aqua)-1) #Create random numbers\n",
    "    d = data_aqua[rnd_num] #Assign random data\n",
    "    \n",
    "    aqua_dict = {} #empty dictionary\n",
    "    # assigning value to the dictionary\n",
    "    aqua_dict['location'] = {'type':\"Point\", 'coordinates':[float(d[0]),float(d[1])]}\n",
    "    aqua_dict['confidence'] = int(d[2])\n",
    "    aqua_dict['surface_temperature'] = float(d[3])\n",
    "    aqua_dict['sender_id'] = SENDER if rnd_num%2 == 0 else SENDER1\n",
    "    aqua_dict['creation_time'] = str(datetime.datetime.now())\n",
    "    aqua_dict['topic'] = 'AQUA'  #Assigning the Source of data for future reference\n",
    "    #send data to kafka\n",
    "    \n",
    "    kafka_producer = connect_kafka_producer()\n",
    "    key = 'AQUA'\n",
    "    print(json.dumps(aqua_dict))\n",
    "    publish_message(kafka_producer, 'AQUA', key, json.dumps(aqua_dict))\n",
    "    time.sleep(15) #wait 15 seconds\n",
    "    "
   ]
  },
  {
   "cell_type": "code",
   "execution_count": 5,
   "metadata": {
    "colab": {},
    "colab_type": "code",
    "id": "Cy7mGbdd0y-n"
   },
   "outputs": [],
   "source": [
    "if kafka_producer is not None:\n",
    "    kafka_producer.close()"
   ]
  },
  {
   "cell_type": "code",
   "execution_count": null,
   "metadata": {},
   "outputs": [],
   "source": []
  }
 ],
 "metadata": {
  "colab": {
   "collapsed_sections": [],
   "name": "Assignment_TaskC_Producer2_v3 .ipynb",
   "provenance": [],
   "version": "0.3.2"
  },
  "kernelspec": {
   "display_name": "Python 3",
   "language": "python",
   "name": "python3"
  },
  "language_info": {
   "codemirror_mode": {
    "name": "ipython",
    "version": 3
   },
   "file_extension": ".py",
   "mimetype": "text/x-python",
   "name": "python",
   "nbconvert_exporter": "python",
   "pygments_lexer": "ipython3",
   "version": "3.5.2"
  }
 },
 "nbformat": 4,
 "nbformat_minor": 1
}
