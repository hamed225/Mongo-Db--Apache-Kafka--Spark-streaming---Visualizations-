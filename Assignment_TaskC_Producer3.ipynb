{
 "cells": [
  {
   "cell_type": "markdown",
   "metadata": {
    "colab_type": "text",
    "id": "3PvNGyCq1kyv"
   },
   "source": [
    "# Task C. Processing Data Stream\n",
    "## Simulating real-time data using Apache Kafka Producers (TERRA DATA)\n",
    "## Task C - 1(c) Event Producer 3"
   ]
  },
  {
   "cell_type": "markdown",
   "metadata": {
    "colab_type": "text",
    "id": "MH2S_l__1kyw"
   },
   "source": [
    "### Importing Libraries and Reading the CSV "
   ]
  },
  {
   "cell_type": "code",
   "execution_count": 1,
   "metadata": {
    "colab": {},
    "colab_type": "code",
    "id": "VS5evWMK1kyx"
   },
   "outputs": [],
   "source": [
    "#importing required libraries\n",
    "import csv  # to read the csv files\n",
    "import random  #for random number generation\n",
    "import json  #for json dumps\n",
    "import time  #for sleep function\n",
    "import datetime  #creating datetime deltas\n",
    "from kafka import KafkaConsumer, KafkaProducer  # creating kafka producers and consumers"
   ]
  },
  {
   "cell_type": "code",
   "execution_count": 2,
   "metadata": {
    "colab": {},
    "colab_type": "code",
    "id": "qFMLFrOC1ky2"
   },
   "outputs": [],
   "source": [
    "def read_csv(file_name):    #function to read the csv file and return the header and data\n",
    "    header = []\n",
    "    data = []\n",
    "    with open(file_name, 'r') as f:\n",
    "        reader = csv.reader(f)\n",
    "        row_count = 0\n",
    "        \n",
    "        for row in reader:\n",
    "            if(row_count == 0):\n",
    "                header.extend(row)\n",
    "            else:\n",
    "                data.append(row)\n",
    "            row_count += 1\n",
    "    \n",
    "    return header, data\n",
    "\n",
    "\n",
    "        \n",
    "header_list_terra, data_terra = read_csv('hotspot_TERRA_streaming.csv')    #Header and data collected seperately"
   ]
  },
  {
   "cell_type": "markdown",
   "metadata": {
    "colab_type": "text",
    "id": "qO7Kdbga144A"
   },
   "source": [
    "### Kafka producer"
   ]
  },
  {
   "cell_type": "code",
   "execution_count": 3,
   "metadata": {
    "colab": {},
    "colab_type": "code",
    "id": "YUo7FybE1ky5"
   },
   "outputs": [],
   "source": [
    "#kafka producer, publish the message into kafka queue in given topic\n",
    "def publish_message(producer_instance, topic_name, key, value): #Function to publish the randomly generated message\n",
    "    try:\n",
    "        #Converting Key and value to Bytes\n",
    "        key_bytes = bytes(key, encoding='utf-8')\n",
    "        value_bytes = bytes(value, encoding='utf-8')\n",
    "        #Creating instance\n",
    "        producer_instance.send(topic_name, key=key_bytes, value=value_bytes)\n",
    "        #Flushing\n",
    "        producer_instance.flush()\n",
    "        print('Message published successfully.')\n",
    "    except Exception as ex:\n",
    "        print('Exception in publishing message')\n",
    "        print(str(ex))\n",
    "\n",
    "# connects to running kafka instance at port 9092 locally\n",
    "def connect_kafka_producer():\n",
    "    _producer = None\n",
    "    try:\n",
    "         #connecting to localhost Kafka and the default port\n",
    "        _producer = KafkaProducer(bootstrap_servers=['localhost:9092'], api_version=(0, 10))\n",
    "    except Exception as ex:\n",
    "        print('Exception while connecting Kafka')\n",
    "        print(str(ex))\n",
    "    finally:\n",
    "        return _producer"
   ]
  },
  {
   "cell_type": "markdown",
   "metadata": {
    "colab_type": "text",
    "id": "0tkooVbM1ky5"
   },
   "source": [
    "### Creating Kafka Connection and Sending Random instance of Climate data\n",
    "* Using random number generator, randomly selecting a row in TERRA_streaming file and feeding into kafka producer.\n",
    "\n",
    "* Publish the messages with a key as `TERRA` and value as TERRA data one row at a time."
   ]
  },
  {
   "cell_type": "code",
   "execution_count": 4,
   "metadata": {
    "colab": {},
    "colab_type": "code",
    "id": "X68h5kZB1ky8",
    "outputId": "210357fe-c58a-41ae-d5bd-435c2a0ab5c6"
   },
   "outputs": [
    {
     "name": "stdout",
     "output_type": "stream",
     "text": [
      "{\"confidence\": 67, \"surface_temperature\": 45.0, \"topic\": \"TERRA\", \"location\": {\"type\": \"Point\", \"coordinates\": [-37.7615, 147.9169]}, \"sender_id\": \"event3\", \"creation_time\": \"2019-05-23 10:11:16.006787\"}\n",
      "Message published successfully.\n",
      "{\"confidence\": 60, \"surface_temperature\": 40.0, \"topic\": \"TERRA\", \"location\": {\"type\": \"Point\", \"coordinates\": [-36.0841, 141.1426]}, \"sender_id\": \"event3_3\", \"creation_time\": \"2019-05-23 10:11:41.249114\"}\n",
      "Message published successfully.\n",
      "{\"confidence\": 62, \"surface_temperature\": 33.0, \"topic\": \"TERRA\", \"location\": {\"type\": \"Point\", \"coordinates\": [-37.602, 149.295]}, \"sender_id\": \"event3\", \"creation_time\": \"2019-05-23 10:12:06.305338\"}\n",
      "Message published successfully.\n",
      "{\"confidence\": 67, \"surface_temperature\": 53.0, \"topic\": \"TERRA\", \"location\": {\"type\": \"Point\", \"coordinates\": [-35.554, 143.307]}, \"sender_id\": \"event3\", \"creation_time\": \"2019-05-23 10:12:31.333266\"}\n",
      "Message published successfully.\n",
      "{\"confidence\": 96, \"surface_temperature\": 78.0, \"topic\": \"TERRA\", \"location\": {\"type\": \"Point\", \"coordinates\": [-36.1955, 145.914]}, \"sender_id\": \"event3\", \"creation_time\": \"2019-05-23 10:12:56.395117\"}\n",
      "Message published successfully.\n",
      "{\"confidence\": 78, \"surface_temperature\": 51.0, \"topic\": \"TERRA\", \"location\": {\"type\": \"Point\", \"coordinates\": [-37.4381, 143.1201]}, \"sender_id\": \"event3\", \"creation_time\": \"2019-05-23 10:13:21.435222\"}\n",
      "Message published successfully.\n",
      "{\"confidence\": 60, \"surface_temperature\": 53.0, \"topic\": \"TERRA\", \"location\": {\"type\": \"Point\", \"coordinates\": [-37.7974, 148.5498]}, \"sender_id\": \"event3\", \"creation_time\": \"2019-05-23 10:13:46.468443\"}\n",
      "Message published successfully.\n",
      "{\"confidence\": 71, \"surface_temperature\": 46.0, \"topic\": \"TERRA\", \"location\": {\"type\": \"Point\", \"coordinates\": [-36.7439, 141.8553]}, \"sender_id\": \"event3\", \"creation_time\": \"2019-05-23 10:14:11.505111\"}\n",
      "Message published successfully.\n",
      "{\"confidence\": 83, \"surface_temperature\": 57.0, \"topic\": \"TERRA\", \"location\": {\"type\": \"Point\", \"coordinates\": [-37.9754, 143.3964]}, \"sender_id\": \"event3\", \"creation_time\": \"2019-05-23 10:14:36.560197\"}\n",
      "Message published successfully.\n",
      "{\"confidence\": 61, \"surface_temperature\": 53.0, \"topic\": \"TERRA\", \"location\": {\"type\": \"Point\", \"coordinates\": [-36.0942, 145.5705]}, \"sender_id\": \"event3_3\", \"creation_time\": \"2019-05-23 10:15:01.598218\"}\n",
      "Message published successfully.\n",
      "{\"confidence\": 83, \"surface_temperature\": 78.0, \"topic\": \"TERRA\", \"location\": {\"type\": \"Point\", \"coordinates\": [-37.803, 142.3151]}, \"sender_id\": \"event3\", \"creation_time\": \"2019-05-23 10:15:26.638210\"}\n",
      "Message published successfully.\n",
      "{\"confidence\": 68, \"surface_temperature\": 44.0, \"topic\": \"TERRA\", \"location\": {\"type\": \"Point\", \"coordinates\": [-36.1687, 145.8275]}, \"sender_id\": \"event3_3\", \"creation_time\": \"2019-05-23 10:15:51.687329\"}\n",
      "Message published successfully.\n",
      "{\"confidence\": 84, \"surface_temperature\": 58.0, \"topic\": \"TERRA\", \"location\": {\"type\": \"Point\", \"coordinates\": [-36.4097, 145.8952]}, \"sender_id\": \"event3\", \"creation_time\": \"2019-05-23 10:16:16.739511\"}\n",
      "Message published successfully.\n",
      "{\"confidence\": 64, \"surface_temperature\": 45.0, \"topic\": \"TERRA\", \"location\": {\"type\": \"Point\", \"coordinates\": [-38.0089, 143.8976]}, \"sender_id\": \"event3\", \"creation_time\": \"2019-05-23 10:16:41.764046\"}\n",
      "Message published successfully.\n",
      "{\"confidence\": 71, \"surface_temperature\": 46.0, \"topic\": \"TERRA\", \"location\": {\"type\": \"Point\", \"coordinates\": [-35.7918, 143.1997]}, \"sender_id\": \"event3\", \"creation_time\": \"2019-05-23 10:17:06.806197\"}\n",
      "Message published successfully.\n",
      "{\"confidence\": 100, \"surface_temperature\": 112.0, \"topic\": \"TERRA\", \"location\": {\"type\": \"Point\", \"coordinates\": [-37.237, 142.141]}, \"sender_id\": \"event3_3\", \"creation_time\": \"2019-05-23 10:17:31.851674\"}\n",
      "Message published successfully.\n",
      "{\"confidence\": 78, \"surface_temperature\": 51.0, \"topic\": \"TERRA\", \"location\": {\"type\": \"Point\", \"coordinates\": [-36.9294, 142.7087]}, \"sender_id\": \"event3_3\", \"creation_time\": \"2019-05-23 10:17:56.905320\"}\n",
      "Message published successfully.\n",
      "{\"confidence\": 95, \"surface_temperature\": 75.0, \"topic\": \"TERRA\", \"location\": {\"type\": \"Point\", \"coordinates\": [-37.8906, 146.2035]}, \"sender_id\": \"event3\", \"creation_time\": \"2019-05-23 10:18:21.950061\"}\n",
      "Message published successfully.\n",
      "{\"confidence\": 64, \"surface_temperature\": 42.0, \"topic\": \"TERRA\", \"location\": {\"type\": \"Point\", \"coordinates\": [-37.6662, 142.9874]}, \"sender_id\": \"event3\", \"creation_time\": \"2019-05-23 10:18:47.005342\"}\n",
      "Message published successfully.\n",
      "{\"confidence\": 100, \"surface_temperature\": 97.0, \"topic\": \"TERRA\", \"location\": {\"type\": \"Point\", \"coordinates\": [-36.4518, 144.7752]}, \"sender_id\": \"event3\", \"creation_time\": \"2019-05-23 10:19:12.044052\"}\n",
      "Message published successfully.\n",
      "{\"confidence\": 77, \"surface_temperature\": 50.0, \"topic\": \"TERRA\", \"location\": {\"type\": \"Point\", \"coordinates\": [-36.0799, 146.0784]}, \"sender_id\": \"event3_3\", \"creation_time\": \"2019-05-23 10:19:37.095022\"}\n",
      "Message published successfully.\n",
      "{\"confidence\": 90, \"surface_temperature\": 67.0, \"topic\": \"TERRA\", \"location\": {\"type\": \"Point\", \"coordinates\": [-36.1303, 146.3606]}, \"sender_id\": \"event3_3\", \"creation_time\": \"2019-05-23 10:20:02.139391\"}\n",
      "Message published successfully.\n",
      "{\"confidence\": 89, \"surface_temperature\": 65.0, \"topic\": \"TERRA\", \"location\": {\"type\": \"Point\", \"coordinates\": [-36.7218, 141.6411]}, \"sender_id\": \"event3\", \"creation_time\": \"2019-05-23 10:20:27.175586\"}\n",
      "Message published successfully.\n",
      "{\"confidence\": 63, \"surface_temperature\": 41.0, \"topic\": \"TERRA\", \"location\": {\"type\": \"Point\", \"coordinates\": [-36.3296, 141.7522]}, \"sender_id\": \"event3\", \"creation_time\": \"2019-05-23 10:20:52.228275\"}\n",
      "Message published successfully.\n",
      "{\"confidence\": 83, \"surface_temperature\": 56.0, \"topic\": \"TERRA\", \"location\": {\"type\": \"Point\", \"coordinates\": [-36.3661, 145.8545]}, \"sender_id\": \"event3_3\", \"creation_time\": \"2019-05-23 10:21:17.274312\"}\n",
      "Message published successfully.\n",
      "{\"confidence\": 70, \"surface_temperature\": 45.0, \"topic\": \"TERRA\", \"location\": {\"type\": \"Point\", \"coordinates\": [-36.1926, 146.3074]}, \"sender_id\": \"event3\", \"creation_time\": \"2019-05-23 10:21:42.318706\"}\n",
      "Message published successfully.\n",
      "{\"confidence\": 100, \"surface_temperature\": 107.0, \"topic\": \"TERRA\", \"location\": {\"type\": \"Point\", \"coordinates\": [-37.8928, 146.1906]}, \"sender_id\": \"event3_3\", \"creation_time\": \"2019-05-23 10:22:07.395564\"}\n",
      "Message published successfully.\n",
      "{\"confidence\": 90, \"surface_temperature\": 67.0, \"topic\": \"TERRA\", \"location\": {\"type\": \"Point\", \"coordinates\": [-36.7101, 142.3865]}, \"sender_id\": \"event3_3\", \"creation_time\": \"2019-05-23 10:22:32.447271\"}\n",
      "Message published successfully.\n",
      "{\"confidence\": 89, \"surface_temperature\": 65.0, \"topic\": \"TERRA\", \"location\": {\"type\": \"Point\", \"coordinates\": [-36.1556, 141.5904]}, \"sender_id\": \"event3\", \"creation_time\": \"2019-05-23 10:22:57.478095\"}\n",
      "Message published successfully.\n",
      "{\"confidence\": 59, \"surface_temperature\": 40.0, \"topic\": \"TERRA\", \"location\": {\"type\": \"Point\", \"coordinates\": [-37.6953, 143.0704]}, \"sender_id\": \"event3\", \"creation_time\": \"2019-05-23 10:23:22.527429\"}\n",
      "Message published successfully.\n",
      "{\"confidence\": 55, \"surface_temperature\": 40.0, \"topic\": \"TERRA\", \"location\": {\"type\": \"Point\", \"coordinates\": [-36.591, 141.7194]}, \"sender_id\": \"event3\", \"creation_time\": \"2019-05-23 10:23:47.564147\"}\n",
      "Message published successfully.\n",
      "{\"confidence\": 79, \"surface_temperature\": 52.0, \"topic\": \"TERRA\", \"location\": {\"type\": \"Point\", \"coordinates\": [-36.5234, 145.4642]}, \"sender_id\": \"event3\", \"creation_time\": \"2019-05-23 10:24:12.617745\"}\n",
      "Message published successfully.\n",
      "{\"confidence\": 77, \"surface_temperature\": 50.0, \"topic\": \"TERRA\", \"location\": {\"type\": \"Point\", \"coordinates\": [-36.9175, 142.6639]}, \"sender_id\": \"event3\", \"creation_time\": \"2019-05-23 10:24:37.671534\"}\n",
      "Message published successfully.\n",
      "{\"confidence\": 52, \"surface_temperature\": 42.0, \"topic\": \"TERRA\", \"location\": {\"type\": \"Point\", \"coordinates\": [-37.0484, 141.6245]}, \"sender_id\": \"event3_3\", \"creation_time\": \"2019-05-23 10:25:02.712405\"}\n",
      "Message published successfully.\n",
      "{\"confidence\": 75, \"surface_temperature\": 48.0, \"topic\": \"TERRA\", \"location\": {\"type\": \"Point\", \"coordinates\": [-37.7006, 143.2124]}, \"sender_id\": \"event3_3\", \"creation_time\": \"2019-05-23 10:25:27.724820\"}\n",
      "Message published successfully.\n"
     ]
    },
    {
     "name": "stdout",
     "output_type": "stream",
     "text": [
      "{\"confidence\": 59, \"surface_temperature\": 40.0, \"topic\": \"TERRA\", \"location\": {\"type\": \"Point\", \"coordinates\": [-37.6868, 142.3949]}, \"sender_id\": \"event3_3\", \"creation_time\": \"2019-05-23 10:25:52.781870\"}\n",
      "Message published successfully.\n",
      "{\"confidence\": 73, \"surface_temperature\": 47.0, \"topic\": \"TERRA\", \"location\": {\"type\": \"Point\", \"coordinates\": [-36.2377, 141.1427]}, \"sender_id\": \"event3_3\", \"creation_time\": \"2019-05-23 10:26:17.831969\"}\n",
      "Message published successfully.\n",
      "{\"confidence\": 85, \"surface_temperature\": 59.0, \"topic\": \"TERRA\", \"location\": {\"type\": \"Point\", \"coordinates\": [-36.5722, 146.7572]}, \"sender_id\": \"event3_3\", \"creation_time\": \"2019-05-23 10:26:42.882618\"}\n",
      "Message published successfully.\n",
      "{\"confidence\": 65, \"surface_temperature\": 43.0, \"topic\": \"TERRA\", \"location\": {\"type\": \"Point\", \"coordinates\": [-36.3757, 145.5589]}, \"sender_id\": \"event3_3\", \"creation_time\": \"2019-05-23 10:27:07.923668\"}\n",
      "Message published successfully.\n",
      "{\"confidence\": 96, \"surface_temperature\": 78.0, \"topic\": \"TERRA\", \"location\": {\"type\": \"Point\", \"coordinates\": [-37.253, 144.3681]}, \"sender_id\": \"event3\", \"creation_time\": \"2019-05-23 10:27:32.959048\"}\n",
      "Message published successfully.\n",
      "{\"confidence\": 81, \"surface_temperature\": 55.0, \"topic\": \"TERRA\", \"location\": {\"type\": \"Point\", \"coordinates\": [-36.163, 144.0295]}, \"sender_id\": \"event3_3\", \"creation_time\": \"2019-05-23 10:27:58.012944\"}\n",
      "Message published successfully.\n",
      "{\"confidence\": 80, \"surface_temperature\": 50.0, \"topic\": \"TERRA\", \"location\": {\"type\": \"Point\", \"coordinates\": [-37.585, 148.032]}, \"sender_id\": \"event3\", \"creation_time\": \"2019-05-23 10:28:23.044926\"}\n",
      "Message published successfully.\n",
      "{\"confidence\": 76, \"surface_temperature\": 50.0, \"topic\": \"TERRA\", \"location\": {\"type\": \"Point\", \"coordinates\": [-37.7126, 141.6103]}, \"sender_id\": \"event3_3\", \"creation_time\": \"2019-05-23 10:28:48.093419\"}\n",
      "Message published successfully.\n",
      "{\"confidence\": 64, \"surface_temperature\": 42.0, \"topic\": \"TERRA\", \"location\": {\"type\": \"Point\", \"coordinates\": [-37.7481, 143.4151]}, \"sender_id\": \"event3_3\", \"creation_time\": \"2019-05-23 10:29:13.155090\"}\n",
      "Message published successfully.\n",
      "{\"confidence\": 81, \"surface_temperature\": 54.0, \"topic\": \"TERRA\", \"location\": {\"type\": \"Point\", \"coordinates\": [-36.3636, 141.6612]}, \"sender_id\": \"event3\", \"creation_time\": \"2019-05-23 10:29:38.211273\"}\n",
      "Message published successfully.\n",
      "{\"confidence\": 76, \"surface_temperature\": 50.0, \"topic\": \"TERRA\", \"location\": {\"type\": \"Point\", \"coordinates\": [-38.1187, 143.7662]}, \"sender_id\": \"event3\", \"creation_time\": \"2019-05-23 10:30:03.256845\"}\n",
      "Message published successfully.\n",
      "{\"confidence\": 69, \"surface_temperature\": 45.0, \"topic\": \"TERRA\", \"location\": {\"type\": \"Point\", \"coordinates\": [-37.7087, 145.5499]}, \"sender_id\": \"event3\", \"creation_time\": \"2019-05-23 10:30:28.310466\"}\n",
      "Message published successfully.\n",
      "{\"confidence\": 57, \"surface_temperature\": 40.0, \"topic\": \"TERRA\", \"location\": {\"type\": \"Point\", \"coordinates\": [-36.9733, 146.0788]}, \"sender_id\": \"event3_3\", \"creation_time\": \"2019-05-23 10:30:53.344089\"}\n",
      "Message published successfully.\n",
      "{\"confidence\": 59, \"surface_temperature\": 40.0, \"topic\": \"TERRA\", \"location\": {\"type\": \"Point\", \"coordinates\": [-37.6857, 142.8532]}, \"sender_id\": \"event3\", \"creation_time\": \"2019-05-23 10:31:18.399690\"}\n",
      "Message published successfully.\n",
      "{\"confidence\": 82, \"surface_temperature\": 55.0, \"topic\": \"TERRA\", \"location\": {\"type\": \"Point\", \"coordinates\": [-37.1089, 143.0783]}, \"sender_id\": \"event3\", \"creation_time\": \"2019-05-23 10:31:43.434819\"}\n",
      "Message published successfully.\n"
     ]
    },
    {
     "ename": "KeyboardInterrupt",
     "evalue": "",
     "output_type": "error",
     "traceback": [
      "\u001b[0;31m---------------------------------------------------------------------------\u001b[0m",
      "\u001b[0;31mKeyboardInterrupt\u001b[0m                         Traceback (most recent call last)",
      "\u001b[0;32m<ipython-input-4-b89660896e25>\u001b[0m in \u001b[0;36m<module>\u001b[0;34m()\u001b[0m\n\u001b[1;32m     24\u001b[0m     \u001b[0mpublish_message\u001b[0m\u001b[0;34m(\u001b[0m\u001b[0mkafka_producer\u001b[0m\u001b[0;34m,\u001b[0m \u001b[0;34m'TERRA'\u001b[0m\u001b[0;34m,\u001b[0m \u001b[0mkey\u001b[0m\u001b[0;34m,\u001b[0m \u001b[0mjson\u001b[0m\u001b[0;34m.\u001b[0m\u001b[0mdumps\u001b[0m\u001b[0;34m(\u001b[0m\u001b[0mterra_dict\u001b[0m\u001b[0;34m)\u001b[0m\u001b[0;34m)\u001b[0m\u001b[0;34m\u001b[0m\u001b[0m\n\u001b[1;32m     25\u001b[0m \u001b[0;34m\u001b[0m\u001b[0m\n\u001b[0;32m---> 26\u001b[0;31m     \u001b[0mtime\u001b[0m\u001b[0;34m.\u001b[0m\u001b[0msleep\u001b[0m\u001b[0;34m(\u001b[0m\u001b[0;36m25\u001b[0m\u001b[0;34m)\u001b[0m  \u001b[0;31m##wait 25 seconds\u001b[0m\u001b[0;34m\u001b[0m\u001b[0m\n\u001b[0m\u001b[1;32m     27\u001b[0m \u001b[0;34m\u001b[0m\u001b[0m\n",
      "\u001b[0;31mKeyboardInterrupt\u001b[0m: "
     ]
    }
   ],
   "source": [
    "#kafka producer\n",
    "#assigning senders\n",
    "SENDER = 'event3'\n",
    "SENDER1 = 'event3_3'\n",
    "\n",
    "while True:\n",
    "    rnd_num = random.randint(0,len(data_terra)-1)  #Create random numbers\n",
    "    d = data_terra[rnd_num]#Assign random data\n",
    "    \n",
    "    terra_dict = {}#empty dictionary\n",
    "    # assigning value to the dictionary\n",
    "    terra_dict['location'] = {'type':\"Point\", 'coordinates':[float(d[0]),float(d[1])]}\n",
    "    terra_dict['confidence'] = int(d[2])\n",
    "    terra_dict['surface_temperature'] = float(d[3])\n",
    "    terra_dict['sender_id'] = SENDER if rnd_num%2 == 0 else SENDER1\n",
    "    terra_dict['creation_time'] = str(datetime.datetime.now())\n",
    "    terra_dict['topic'] = 'TERRA'  #Assigning the Source of data for future reference\n",
    "    \n",
    "    #send data to kafka\n",
    "    \n",
    "    kafka_producer = connect_kafka_producer()\n",
    "    key = 'TERRA'\n",
    "    print(json.dumps(terra_dict))\n",
    "    publish_message(kafka_producer, 'TERRA', key, json.dumps(terra_dict))\n",
    "    \n",
    "    time.sleep(25)  ##wait 25 seconds\n",
    "    "
   ]
  },
  {
   "cell_type": "code",
   "execution_count": 5,
   "metadata": {
    "colab": {},
    "colab_type": "code",
    "id": "46Xip_SZ1kzA"
   },
   "outputs": [],
   "source": [
    "if kafka_producer is not None:\n",
    "    kafka_producer.close()"
   ]
  },
  {
   "cell_type": "code",
   "execution_count": null,
   "metadata": {},
   "outputs": [],
   "source": []
  }
 ],
 "metadata": {
  "colab": {
   "collapsed_sections": [],
   "name": "Assignment_TaskC_Producer3_v3 .ipynb",
   "provenance": [],
   "version": "0.3.2"
  },
  "kernelspec": {
   "display_name": "Python 3",
   "language": "python",
   "name": "python3"
  },
  "language_info": {
   "codemirror_mode": {
    "name": "ipython",
    "version": 3
   },
   "file_extension": ".py",
   "mimetype": "text/x-python",
   "name": "python",
   "nbconvert_exporter": "python",
   "pygments_lexer": "ipython3",
   "version": "3.5.2"
  }
 },
 "nbformat": 4,
 "nbformat_minor": 1
}
